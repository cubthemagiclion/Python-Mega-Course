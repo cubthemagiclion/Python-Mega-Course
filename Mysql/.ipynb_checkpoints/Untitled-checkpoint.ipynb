{
 "cells": [
  {
   "cell_type": "code",
   "execution_count": 16,
   "metadata": {},
   "outputs": [
    {
     "name": "stdout",
     "output_type": "stream",
     "text": [
      "<Worksheet \"Ark1\">\n"
     ]
    }
   ],
   "source": [
    "from openpyxl import load_workbook\n",
    "from openpyxl import Workbook\n",
    "wb = load_workbook(\"/Users/vickychen/Downloads/supermarkets.xlsx\")\n",
    "ws = wb.active\n",
    "print(ws)\n",
    "\n",
    "# grab the active worksheet\n",
    "#ws = wb.active\n",
    "\n",
    "# Data can be assigned directly to cells\n",
    "#ws['A1'] = 42\n",
    "\n",
    "# Rows can also be appended\n",
    "#ws.append([1, 2, 3])\n",
    "\n",
    "# Python types will automatically be converted\n",
    "#import datetime\n",
    "#ws['A2'] = datetime.datetime.now()\n",
    "\n",
    "# Save the file\n",
    "#wb.save(\"sample.xlsx\")"
   ]
  },
  {
   "cell_type": "code",
   "execution_count": null,
   "metadata": {},
   "outputs": [],
   "source": []
  }
 ],
 "metadata": {
  "kernelspec": {
   "display_name": "Python 3",
   "language": "python",
   "name": "python3"
  },
  "language_info": {
   "codemirror_mode": {
    "name": "ipython",
    "version": 3
   },
   "file_extension": ".py",
   "mimetype": "text/x-python",
   "name": "python",
   "nbconvert_exporter": "python",
   "pygments_lexer": "ipython3",
   "version": "3.9.0"
  }
 },
 "nbformat": 4,
 "nbformat_minor": 4
}
