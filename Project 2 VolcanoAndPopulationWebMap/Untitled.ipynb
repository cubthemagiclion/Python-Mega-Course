{
 "cells": [
  {
   "cell_type": "code",
   "execution_count": 1,
   "metadata": {},
   "outputs": [],
   "source": [
    "import folium\n",
    "import pandas\n",
    " \n",
    "data = pandas.read_csv(\"Volcanoes.txt\")\n",
    "lat = list(data[\"LAT\"])\n",
    "lon = list(data[\"LON\"])\n",
    "elev = list(data[\"ELEV\"])\n",
    "name = list(data[\"NAME\"])\n",
    " \n",
    "html = \"\"\"\n",
    "Volcano name:<br>\n",
    "<a href=\"https://www.google.com/search?q=%%22%s%%22\" target=\"_blank\">%s</a><br>\n",
    "Height: %s m\n",
    "\"\"\"\n",
    " \n",
    "map = folium.Map(location=[38.58, -99.09], zoom_start=5, tiles=\"Mapbox Bright\")\n",
    "fg = folium.FeatureGroup(name = \"My Map\")\n",
    " \n",
    "for lt, ln, el, name in zip(lat, lon, elev, name):\n",
    "    iframe = folium.IFrame(html=html % (name, name, el), width=200, height=100)\n",
    "    fg.add_child(folium.Marker(location=[lt, ln], popup=folium.Popup(iframe), icon = folium.Icon(color = \"green\")))\n",
    " \n",
    "map.add_child(fg)\n",
    "map.save(\"Map_html_popup_advanced.html\")"
   ]
  }
 ],
 "metadata": {
  "kernelspec": {
   "display_name": "Python 3",
   "language": "python",
   "name": "python3"
  },
  "language_info": {
   "codemirror_mode": {
    "name": "ipython",
    "version": 3
   },
   "file_extension": ".py",
   "mimetype": "text/x-python",
   "name": "python",
   "nbconvert_exporter": "python",
   "pygments_lexer": "ipython3",
   "version": "3.9.0"
  }
 },
 "nbformat": 4,
 "nbformat_minor": 4
}
